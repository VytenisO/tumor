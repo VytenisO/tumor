{
 "cells": [
  {
   "cell_type": "markdown",
   "metadata": {},
   "source": [
    "# TUMOR ground station data retrieval\n",
    "\n",
    "This code is a part of the ground station segment for [TEK5720](https://www.uio.no/studier/emner/matnat/its/TEK5720/) TUMOR (Targeting Ultraviolet Mid-Ozone layer Radiation) mission\n",
    "\n",
    "Group Blip-Blop:\n",
    "* Joachim Thomle Karlsen\n",
    "* Tobias Mellum\n",
    "* Michał Jan Odorczuk\n",
    "* Vytenis Orlauskis\n",
    "* Yawar Seraj\n",
    "\n",
    "Code made by Tobias Mellum, adapted to Jupyter Notebook format by Michał Jan Odorczuk\n",
    "\n",
    "This code displays the newest set of GPS-based directional data retreived from the ground station module\n",
    "\n",
    "Ground station module code is available [here](https://github.com/VytenisO/tumor/blob/main/flightVersion/groundStation.ino)\n",
    "\n",
    "Ground station receives data transmitted by the [CanSat module](https://github.com/VytenisO/tumor/blob/main/flightVersion/cansat.ino)\n",
    "\n",
    "Ground station data is saved to a file with the [data capture script](https://github.com/VytenisO/tumor/blob/main/flightVersion/data_capture.ipynb)"
   ]
  },
  {
   "cell_type": "markdown",
   "metadata": {},
   "source": [
    "## imports\n",
    "\n",
    "Please install [numpy](https://pypi.org/project/numpy/), [matplotlib](https://pypi.org/project/matplotlib/), [folium](https://pypi.org/project/folium/) and [pandas](https://pypi.org/project/pandas/)"
   ]
  },
  {
   "cell_type": "code",
   "execution_count": null,
   "metadata": {},
   "outputs": [],
   "source": [
    "import math\n",
    "import pandas as pd\n",
    "from os import path, listdir\n",
    "import matplotlib.pyplot as plt\n",
    "import numpy as np\n",
    "from numpy import sin, cos, pi, linspace\n",
    "import folium\n",
    "from IPython.display import clear_output"
   ]
  },
  {
   "cell_type": "code",
   "execution_count": null,
   "metadata": {},
   "outputs": [],
   "source": [
    "def calculate_angle(lat1, lon1, lat2, lon2):\n",
    "    # degrees to radians\n",
    "    lat1 = math.radians(lat1)\n",
    "    lon1 = math.radians(lon1)\n",
    "    lat2 = math.radians(lat2)\n",
    "    lon2 = math.radians(lon2)\n",
    "\n",
    "    diff_lon = lon2 - lon1\n",
    "\n",
    "    # Calculate the angle\n",
    "    x = -math.sin(diff_lon) * math.cos(lat2)\n",
    "    y = math.cos(lat1) * math.sin(lat2) - (\n",
    "        math.sin(lat1) * math.cos(lat2) * math.cos(diff_lon)\n",
    "    )\n",
    "\n",
    "    initial_bearing = math.atan2(x, y)\n",
    "\n",
    "    bearing_deg = math.degrees(initial_bearing)\n",
    "    print(\"initial bearing: \", bearing_deg)\n",
    "    compass_bearing = (bearing_deg + 90) % 360\n",
    "    print(\"compass bearing: \", compass_bearing)\n",
    "\n",
    "    return compass_bearing"
   ]
  },
  {
   "cell_type": "code",
   "execution_count": null,
   "metadata": {},
   "outputs": [],
   "source": [
    "\n",
    "def balloon_longitude_latitude_altitude(df):\n",
    "    latitude = (\n",
    "        pd.to_numeric(df[\"lat_deg\"])\n",
    "        + pd.to_numeric(df[\"lat_min\"]) / 60\n",
    "        + pd.to_numeric(df[\"lat_sec\"]) / 3600\n",
    "    ).iloc[-1]\n",
    "    longitude = (\n",
    "        pd.to_numeric(df[\"lon_deg\"])\n",
    "        + pd.to_numeric(df[\"lon_min\"]) / 60\n",
    "        + pd.to_numeric(df[\"lon_sec\"]) / 3600\n",
    "    ).iloc[-1]\n",
    "    altitude = pd.to_numeric(df[\"alt\"]).iloc[-1]\n",
    "\n",
    "    print(latitude, longitude, altitude)\n",
    "    return round(latitude, 6), round(longitude, 6), altitude"
   ]
  },
  {
   "cell_type": "code",
   "execution_count": null,
   "metadata": {},
   "outputs": [],
   "source": [
    "def distance(lat1, lon1, lat2, lon2):  # returns distance in meters\n",
    "    lat1 = math.radians(lat1)\n",
    "    lon1 = math.radians(lon1)\n",
    "    lat2 = math.radians(lat2)\n",
    "    lon2 = math.radians(lon2)\n",
    "\n",
    "    diff_lon = lon2 - lon1\n",
    "    diff_lat = lat2 - lat1\n",
    "\n",
    "    a = (\n",
    "        math.sin(diff_lat / 2) ** 2\n",
    "        + math.cos(lat1) * math.cos(lat2) * math.sin(diff_lon / 2) ** 2\n",
    "    )\n",
    "    c = 2 * math.atan2(math.sqrt(a), math.sqrt(1 - a))\n",
    "    distance = 6371 * c  # Earth radius * angle between the two points\n",
    "\n",
    "    return distance * 1000"
   ]
  },
  {
   "cell_type": "code",
   "execution_count": null,
   "metadata": {},
   "outputs": [],
   "source": [
    "def deg2rad(deg):\n",
    "    return deg * pi / 180"
   ]
  },
  {
   "cell_type": "code",
   "execution_count": null,
   "metadata": {},
   "outputs": [],
   "source": [
    "def plot_compass_bearing(bearing, elevation, ground_distance, altitude_difference):\n",
    "    fig = plt.figure(figsize=(12, 8))\n",
    "\n",
    "    ax = fig.add_subplot(212, polar=True)\n",
    "    ax.set_yticklabels([])\n",
    "    ax.set_xticklabels([\"E\", \"\", \"N\", \"\", \"W\", \"\", \"S\", \"\"])\n",
    "    ax.plot([0, np.deg2rad(bearing)], [0, 1])\n",
    "\n",
    "    ax2 = fig.add_subplot(221)\n",
    "    ax2.set_xlabel(\"ground distance (meters)\")\n",
    "    ax2.set_ylabel(\"altitude difference (meters)\")\n",
    "    ax2.plot(ground_distance, altitude_difference, \"o-\")\n",
    "\n",
    "    ax3 = fig.add_subplot(222)\n",
    "    r = 1.5\n",
    "    angles = linspace(0 * pi, 2 * pi, 100)\n",
    "    xs = cos(angles)\n",
    "    ys = sin(angles)\n",
    "\n",
    "    ax3.plot(xs, ys, color=\"green\")\n",
    "    ax3.set_xlim(-r, r)\n",
    "    ax3.set_ylim(-r, r)\n",
    "    ax3.set_aspect(\"equal\")\n",
    "    ax3.set_title(f\"Elevation: {round(elevation,2)} deg\")\n",
    "    ax3.plot(r - 0.5, 0, marker=\"P\", color=\"blue\")\n",
    "    ax3.plot(-r + 0.5, 0, marker=\"o\", color=\"red\")\n",
    "    ax3.plot([r, -r], [0, 0], color=\"red\")\n",
    "    ax3.plot([0, r * cos(deg2rad(0))], [0, r * sin(deg2rad(0))], color=\"red\")\n",
    "    ax3.plot(\n",
    "        [0, r * cos(deg2rad(elevation))],\n",
    "        [0, r * sin(deg2rad(elevation))],\n",
    "        color=\"black\",\n",
    "    )\n",
    "\n",
    "    fig.text(\n",
    "        0.5,\n",
    "        0,\n",
    "        f\"Bearing: {round(90-bearing, 3)} degrees\",\n",
    "        horizontalalignment=\"center\",\n",
    "        verticalalignment=\"bottom\",\n",
    "    )"
   ]
  },
  {
   "cell_type": "code",
   "execution_count": null,
   "metadata": {},
   "outputs": [],
   "source": [
    "def elevation_angle(height_difference, distance):\n",
    "    angle_radians = math.atan2(height_difference, distance)  # radians\n",
    "    angle_degrees = math.degrees(angle_radians)\n",
    "\n",
    "    return angle_degrees"
   ]
  },
  {
   "cell_type": "markdown",
   "metadata": {},
   "source": [
    "## Theoretical ground station position"
   ]
  },
  {
   "cell_type": "code",
   "execution_count": null,
   "metadata": {},
   "outputs": [],
   "source": [
    "operatorLatitude = 69.29596\n",
    "operatorLongitude = 16.03042\n",
    "operatorAltitude = 13"
   ]
  },
  {
   "cell_type": "code",
   "execution_count": null,
   "metadata": {},
   "outputs": [],
   "source": [
    "file_times = [\n",
    "    (f, path.getmtime(f)) for f in listdir(\".\") if path.isfile(f) and f[-3:] == \"csv\"\n",
    "]\n",
    "sorted_files = sorted(file_times, key=lambda x: x[1], reverse=True)\n",
    "data_source = sorted_files[0][0]\n",
    "\n",
    "\n",
    "while True:\n",
    "    df = pd.read_csv(data_source, comment='#')\n",
    "    balloon_latitude, balloon_longitude, balloon_altitude = (\n",
    "        balloon_longitude_latitude_altitude(df)\n",
    "    )\n",
    "    bearing = calculate_angle(\n",
    "        operatorLatitude, operatorLongitude, balloon_latitude, balloon_longitude\n",
    "    )\n",
    "    lastDistance = distance(\n",
    "        operatorLatitude, operatorLongitude, balloon_latitude, balloon_longitude\n",
    "    )\n",
    "    altitudeDifference = balloon_altitude - operatorAltitude\n",
    "    print(\"altitude dif\", altitudeDifference)\n",
    "    elevation = elevation_angle(altitudeDifference, lastDistance)\n",
    "\n",
    "    # Create a map centered at the average of the coordinates\n",
    "    map = folium.Map(\n",
    "        location=[\n",
    "            (operatorLatitude + balloon_latitude) / 2,\n",
    "            (operatorLongitude + balloon_longitude) / 2,\n",
    "        ],\n",
    "        zoom_start=13,\n",
    "    )\n",
    "\n",
    "    # Add markers for the operator and the balloon\n",
    "    folium.Marker([operatorLatitude, operatorLongitude], popup=\"Operator\").add_to(map)\n",
    "    folium.Marker([balloon_latitude, balloon_longitude], popup=\"Balloon\").add_to(map)\n",
    "\n",
    "    # Save the map to an HTML file\n",
    "    map.save(\"map.html\")\n",
    "    plot_compass_bearing(bearing, elevation, lastDistance, altitudeDifference)\n",
    "    clear_output(wait=True)\n",
    "    plt.show()\n"
   ]
  }
 ],
 "metadata": {
  "kernelspec": {
   "display_name": "Python 3",
   "language": "python",
   "name": "python3"
  },
  "language_info": {
   "codemirror_mode": {
    "name": "ipython",
    "version": 3
   },
   "file_extension": ".py",
   "mimetype": "text/x-python",
   "name": "python",
   "nbconvert_exporter": "python",
   "pygments_lexer": "ipython3",
   "version": "3.10.12"
  }
 },
 "nbformat": 4,
 "nbformat_minor": 2
}
