{
 "cells": [
  {
   "cell_type": "markdown",
   "metadata": {},
   "source": [
    "# TUMOR ground station data display\n",
    "\n",
    "This code is a part of the ground station segment for [TEK5720](https://www.uio.no/studier/emner/matnat/its/TEK5720/) TUMOR (Targeting Ultraviolet Mid-Ozone layer Radiation) mission\n",
    "\n",
    "Group Blip-Blop:\n",
    "* Joachim Thomle Karlsen\n",
    "* Tobias Mellum\n",
    "* Michał Jan Odorczuk\n",
    "* Vytenis Orlauskis\n",
    "* Yawar Seraj\n",
    "\n",
    "Code made by Michał Jan Odorczuk\n",
    "\n",
    "This code creates an html file with the GPS track of the probe based on the data retreived from the ground station module\n",
    "\n",
    "Ground station module code is available [here](https://github.com/VytenisO/tumor/blob/main/flightVersion/groundStation.ino)\n",
    "\n",
    "Ground station receives data transmitted by the [CanSat module](https://github.com/VytenisO/tumor/blob/main/flightVersion/cansat.ino)\n",
    "\n",
    "Ground station data is saved to a file with the [data capture script](https://github.com/VytenisO/tumor/blob/main/flightVersion/data_capture.ipynb)"
   ]
  },
  {
   "cell_type": "markdown",
   "metadata": {},
   "source": [
    "## imports\n",
    "\n",
    "Please install [numpy](https://pypi.org/project/numpy/), [folium](https://pypi.org/project/folium/) and [pandas](https://pypi.org/project/pandas/)"
   ]
  },
  {
   "cell_type": "code",
   "execution_count": null,
   "metadata": {},
   "outputs": [],
   "source": [
    "import pandas as pd\n",
    "import folium\n",
    "from time import sleep\n",
    "from os import path, listdir\n",
    "import numpy as np"
   ]
  },
  {
   "cell_type": "markdown",
   "metadata": {},
   "source": [
    "## Initial data\n",
    "\n",
    "`x`, `y` are the focus coordinates in degrees. Please change for other initial focus coordinates.\n",
    "\n",
    "`zoom` is the initial zoom in the tracker.\n",
    "\n",
    "`lon_low` and `lon_high` are respectively lower and upper limits of longitudinal values. All the points with longitudes outside of those will be skipped in the tracker.\n",
    "\n",
    "`lat_low` and `lat_high` are respectively lower and upper limits of latitudinal values. All the points with latitudes outside of those will be skipped in the tracker.\n",
    "\n",
    "`mapfile` is the name of the html file containing the tracker data."
   ]
  },
  {
   "cell_type": "code",
   "execution_count": null,
   "metadata": {},
   "outputs": [],
   "source": [
    "x, y = 69.2965, 16.032\n",
    "zoom = 13\n",
    "\n",
    "lon_low = 5\n",
    "lon_high = 30\n",
    "lat_low = 60\n",
    "lat_high = 80\n",
    "\n",
    "m = folium.Map(location=[x, y], zoom_start=zoom)\n",
    "marker = folium.Marker([x, y])\n",
    "marker.add_to(m)\n",
    "mapfile = 'gps_map.html'"
   ]
  },
  {
   "cell_type": "code",
   "execution_count": null,
   "metadata": {},
   "outputs": [],
   "source": [
    "file_times = [(f, path.getmtime(f)) for f in listdir('.') if path.isfile(f) and f[-3:] == 'csv']\n",
    "\n",
    "sorted_files = sorted(file_times, key=lambda x: x[1], reverse=True)\n",
    "data_source = sorted_files[0][0]\n",
    "\n",
    "while True:\n",
    "    df = pd.read_csv(data_source, comment='#')\n",
    "    lons = (pd.to_numeric(df['lon_deg']) + pd.to_numeric(df['lon_min']) / 60 + pd.to_numeric(df['lon_sec']) / 3600).to_numpy()\n",
    "    lats = (pd.to_numeric(df['lat_deg']) + pd.to_numeric(df['lat_min']) / 60 + pd.to_numeric(df['lat_sec']) / 3600).to_numpy()\n",
    "    mask = (lons<lon_high)&(lons>lon_low)&(lats<lat_high)&(lats>lat_low)\n",
    "    lons = lons[mask]\n",
    "    lats = lats[mask]\n",
    "    trajectory = np.array([lats, lons]).T\n",
    "    marker.location = list(trajectory[-1,:])\n",
    "    trajectory_line = folium.PolyLine(locations=list(trajectory), color='blue')\n",
    "    m.add_child(trajectory_line)\n",
    "    m.save(mapfile)\n",
    "    sleep(5)"
   ]
  }
 ],
 "metadata": {
  "kernelspec": {
   "display_name": "Python 3",
   "language": "python",
   "name": "python3"
  },
  "language_info": {
   "codemirror_mode": {
    "name": "ipython",
    "version": 3
   },
   "file_extension": ".py",
   "mimetype": "text/x-python",
   "name": "python",
   "nbconvert_exporter": "python",
   "pygments_lexer": "ipython3",
   "version": "3.10.12"
  }
 },
 "nbformat": 4,
 "nbformat_minor": 2
}
