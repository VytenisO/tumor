{
 "cells": [
  {
   "cell_type": "code",
   "execution_count": null,
   "metadata": {},
   "outputs": [],
   "source": [
    "import pandas as pd\n",
    "import folium\n",
    "from time import sleep\n",
    "from os import path, listdir\n",
    "import numpy as np"
   ]
  },
  {
   "cell_type": "code",
   "execution_count": null,
   "metadata": {},
   "outputs": [],
   "source": [
    "x, y = 69.3, 16\n",
    "vx, vy = 0.00001, 0.00005\n",
    "trajectory = [(x, y)]\n",
    "\n",
    "lon_low = 5\n",
    "lon_high = 30\n",
    "lat_low = 60\n",
    "lat_high = 80"
   ]
  },
  {
   "cell_type": "code",
   "execution_count": null,
   "metadata": {},
   "outputs": [],
   "source": [
    "x, y = 69.31, 16\n",
    "m = folium.Map(location=[x, y], zoom_start=13)\n",
    "marker = folium.Marker([x, y])\n",
    "marker.add_to(m)\n",
    "mapfile = 'gps_map.html'\n",
    "\n",
    "file_times = [(f, path.getmtime(f)) for f in listdir('.') if path.isfile(f) and f[-3:] == 'csv']\n",
    "\n",
    "sorted_files = sorted(file_times, key=lambda x: x[1], reverse=True)\n",
    "data_source = sorted_files[0][0]\n",
    "\n",
    "while True:\n",
    "    df = pd.read_csv(data_source, comment='#')\n",
    "    lons = (pd.to_numeric(df['lon_deg']) + pd.to_numeric(df['lon_min']) / 60 + pd.to_numeric(df['lon_sec']) / 3600).to_numpy()\n",
    "    lats = (pd.to_numeric(df['lat_deg']) + pd.to_numeric(df['lat_min']) / 60 + pd.to_numeric(df['lat_sec']) / 3600).to_numpy()\n",
    "    mask = (lons<lon_high)&(lons>lon_low)&(lats<lat_high)&(lats>lat_low)\n",
    "    lons = lons[mask]\n",
    "    lats = lats[mask]\n",
    "    trajectory = np.array([lats, lons]).T\n",
    "    marker.location = list(trajectory[-1,:])\n",
    "    trajectory_line = folium.PolyLine(locations=list(trajectory), color='blue')\n",
    "    m.add_child(trajectory_line)\n",
    "    m.save(mapfile)\n",
    "    sleep(5)"
   ]
  }
 ],
 "metadata": {
  "kernelspec": {
   "display_name": "Python 3",
   "language": "python",
   "name": "python3"
  },
  "language_info": {
   "codemirror_mode": {
    "name": "ipython",
    "version": 3
   },
   "file_extension": ".py",
   "mimetype": "text/x-python",
   "name": "python",
   "nbconvert_exporter": "python",
   "pygments_lexer": "ipython3",
   "version": "3.10.12"
  }
 },
 "nbformat": 4,
 "nbformat_minor": 2
}
