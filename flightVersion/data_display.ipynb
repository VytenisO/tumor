{
 "cells": [
  {
   "cell_type": "markdown",
   "metadata": {},
   "source": [
    "# TUMOR ground station data display\n",
    "\n",
    "This code is a part of the ground station segment for [TEK5720](https://www.uio.no/studier/emner/matnat/its/TEK5720/) TUMOR (Targeting Ultraviolet Mid-Ozone layer Radiation) mission\n",
    "\n",
    "Group Blip-Blop:\n",
    "* Joachim Thomle Karlsen\n",
    "* Tobias Mellum\n",
    "* Michał Jan Odorczuk\n",
    "* Vytenis Orlauskis\n",
    "* Yawar Seraj\n",
    "\n",
    "Code made by Michał Jan Odorczuk\n",
    "\n",
    "This code displays the newest set of data retreived from the ground station module\n",
    "\n",
    "Ground station module code is available [here](https://github.com/VytenisO/tumor/blob/main/flightVersion/groundStation.ino)\n",
    "\n",
    "Ground station receives data transmitted by the [CanSat module](https://github.com/VytenisO/tumor/blob/main/flightVersion/cansat.ino)\n",
    "\n",
    "Ground station data is saved to a file with the [data capture script](https://github.com/VytenisO/tumor/blob/main/flightVersion/data_capture.ipynb)"
   ]
  },
  {
   "cell_type": "markdown",
   "metadata": {},
   "source": [
    "## imports\n",
    "\n",
    "Please install [pyserial](https://pypi.org/project/pyserial/), [matplotlib](https://pypi.org/project/matplotlib/) and [pandas](https://pypi.org/project/pandas/)"
   ]
  },
  {
   "cell_type": "code",
   "execution_count": null,
   "metadata": {},
   "outputs": [],
   "source": [
    "import pandas as pd\n",
    "from matplotlib import pyplot as plt\n",
    "from IPython.display import clear_output\n",
    "from os import listdir, path\n",
    "import numpy as np"
   ]
  },
  {
   "cell_type": "markdown",
   "metadata": {},
   "source": [
    "## Parameters"
   ]
  },
  {
   "cell_type": "code",
   "execution_count": null,
   "metadata": {},
   "outputs": [],
   "source": [
    "N_UV = 4\n",
    "N_displayed = 100\n",
    "UV_MAX = 5000"
   ]
  },
  {
   "cell_type": "markdown",
   "metadata": {},
   "source": [
    "## Plotting functions"
   ]
  },
  {
   "cell_type": "code",
   "execution_count": null,
   "metadata": {},
   "outputs": [],
   "source": [
    "def plot_uvs(axes, df, time_based, remove_extrema):\n",
    "    high = 0\n",
    "    for i in range(N_UV):\n",
    "        uv = pd.to_numeric(df[f'UV_{i}']).to_numpy()\n",
    "        al = pd.to_numeric(df[f'AL_{i}']).to_numpy()\n",
    "        xs = np.arange(len(uv))\n",
    "        if time_based:\n",
    "            xs = pd.to_datetime(df[f'time_{i}'], format='%H:%M:%S.%f')\n",
    "        axes[0, 0].plot(xs, uv, label=f'$UV_{i}$')\n",
    "        axes[0, 1].plot(xs, al, label=f\"$AL_{i}$\")\n",
    "        if remove_extrema:\n",
    "            high = max(high, uv.mean() + 3 * uv.std())\n",
    "        else:\n",
    "            high = max(high, uv.max())"
   ]
  },
  {
   "cell_type": "code",
   "execution_count": null,
   "metadata": {},
   "outputs": [],
   "source": [
    "def plot_magnetometer(ax, df, time_based):\n",
    "    mxs, mys, mzs = [], [], []\n",
    "    xss = np.array([np.arange(df.shape[0]) for i in range(N_UV)])\n",
    "    for i in range(N_UV):\n",
    "        mxs.append(pd.to_numeric(df[f'Mx_{i}']).to_numpy())\n",
    "        mys.append(pd.to_numeric(df[f'My_{i}']).to_numpy())\n",
    "        mzs.append(pd.to_numeric(df[f'Mz_{i}']).to_numpy())\n",
    "        if time_based:\n",
    "            xss[i,:] = pd.to_datetime(df[f'time_{i}'], format='%H:%M:%S.%f').to_numpy()\n",
    "    mxs = np.array(mxs)\n",
    "    mys = np.array(mys)\n",
    "    mzs = np.array(mzs)\n",
    "    M_N = mxs.shape[0] * mxs.shape[1]\n",
    "    mxs = np.reshape(mxs.T, M_N)\n",
    "    mys = np.reshape(mys.T, M_N)\n",
    "    mzs = np.reshape(mzs.T, M_N)\n",
    "    xss = np.reshape(xss.T, M_N)\n",
    "    ax.plot(xss, mxs, label=\"$M_x$\", color='r')\n",
    "    ax.plot(xss, mys, label=\"$M_y$\", color='g')\n",
    "    ax.plot(xss, mzs, label=\"$M_z$\", color='b')"
   ]
  },
  {
   "cell_type": "code",
   "execution_count": null,
   "metadata": {},
   "outputs": [],
   "source": [
    "def plot_times(ax, df):\n",
    "    uv_times = []\n",
    "    for i in range(N_UV):\n",
    "        uv_times.append(pd.to_datetime(df[f'time_{i}'], format='%H:%M:%S.%f').to_numpy()[-N_displayed:])\n",
    "        ax.plot(uv_times[i], label=f'$time_{{uv,{i}}}$')\n",
    "    times = pd.to_datetime(df[f'time_GPS'], format='%H:%M:%S').to_numpy()[-N_displayed:]\n",
    "    ax.plot(times, label='GPS time')"
   ]
  },
  {
   "cell_type": "code",
   "execution_count": null,
   "metadata": {},
   "outputs": [],
   "source": [
    "def plot_altitudes(ax, df, time_based, remove_extrema):\n",
    "    alts = pd.to_numeric(df['alt'])\n",
    "    alt_bars = pd.to_numeric(df['altitude'])\n",
    "    low, high = min(alts.min(), alt_bars.min()), max(alts.max(), alt_bars.max())\n",
    "    xs = np.arange(df.shape[0])\n",
    "    if time_based:\n",
    "        xs = pd.to_datetime(df[f'time_0'], format='%H:%M:%S.%f')\n",
    "    if remove_extrema:\n",
    "        low = min(alts.mean() - 3 * alts.std(), alt_bars.mean() - 3 * alt_bars.std())\n",
    "        high = max(alts.mean() + 3 * alts.std(), alt_bars.mean() + 3 * alt_bars.std())\n",
    "    ax.plot(xs, alts, label='GPS altitude')\n",
    "    ax.plot(xs, alt_bars, label='barometric altitude')\n",
    "    ax.set_ylim(low, high)"
   ]
  },
  {
   "cell_type": "code",
   "execution_count": null,
   "metadata": {},
   "outputs": [],
   "source": [
    "def plot_temperature(ax, df, time_based, remove_extrema):\n",
    "    temperatures = pd.to_numeric(df['temperature'])\n",
    "    xs = np.arange(df.shape[0])\n",
    "    if time_based:\n",
    "        xs = pd.to_datetime(df[f'time_0'], format='%H:%M:%S.%f')\n",
    "    ax.plot(xs, temperatures)\n",
    "    if remove_extrema:\n",
    "        ax.set_ylim(temperatures.mean() - 3 * temperatures.std(), temperatures.mean() + 3 * temperatures.std())"
   ]
  },
  {
   "cell_type": "code",
   "execution_count": null,
   "metadata": {},
   "outputs": [],
   "source": [
    "TIME_BASED = False\n",
    "REMOVE_EXTREMA = True"
   ]
  },
  {
   "cell_type": "markdown",
   "metadata": {},
   "source": [
    "## Load from file and display"
   ]
  },
  {
   "cell_type": "code",
   "execution_count": null,
   "metadata": {},
   "outputs": [],
   "source": [
    "file_times = [(f, path.getmtime(f)) for f in listdir('.') if path.isfile(f) and f[-3:] == 'csv']\n",
    "\n",
    "sorted_files = sorted(file_times, key=lambda x: x[1], reverse=True)\n",
    "data_source = sorted_files[0][0]\n",
    "\n",
    "while True:\n",
    "    df = pd.read_csv(data_source, comment='#')\n",
    "    for i in range(N_UV):\n",
    "        df.loc[df[f'UV_{i}']>UV_MAX,f'UV_{i}'] = UV_MAX\n",
    "    # Create a figure and subplots\n",
    "    fig, axes = plt.subplots(nrows=2, ncols=3, figsize=(16, 8))\n",
    "\n",
    "    axes[0, 0].set_title('ultraviolet counts')\n",
    "    axes[0, 1].set_title('ambient light counts')\n",
    "    axes[0, 0].set_xticks([])\n",
    "    axes[0, 0].set_ylabel('counts')\n",
    "    axes[0, 1].set_xticks([])\n",
    "    axes[0, 1].set_ylabel('counts')\n",
    "    plot_uvs(axes, df, TIME_BASED, REMOVE_EXTREMA)\n",
    "\n",
    "    plot_magnetometer(axes[0, 2], df, TIME_BASED)\n",
    "    axes[0, 2].set_title('Magnetic field')\n",
    "    axes[0, 2].set_xticks([])\n",
    "\n",
    "\n",
    "    # lons = pd.to_numeric(df['lon_deg']) + pd.to_numeric(df['lon_min']) / 60 + pd.to_numeric(df['lon_sec']) / 3600\n",
    "    # lats = pd.to_numeric(df['lat_deg']) + pd.to_numeric(df['lat_min']) / 60 + pd.to_numeric(df['lat_sec']) / 3600\n",
    "    # axes[1, 0].plot(lons[-N_displayed:], lats[-N_displayed:])\n",
    "    # axes[1, 0].scatter(lons[-1:], lats[-1:], c='r')\n",
    "    # axes[1, 0].set_title('Coordinates')\n",
    "    # axes[1, 0].set_xlabel('°E')\n",
    "    # axes[1, 0].set_ylabel('°N')\n",
    "    # plot_times(axes[1, 0], df)\n",
    "    axes[1, 0].set_title('Received Signal Strength Indicator')\n",
    "    rssi = pd.to_numeric(df['RSSI'])\n",
    "    xs = np.arange(df.shape[0])\n",
    "    if TIME_BASED:\n",
    "        xs = pd.to_datetime(df[f'time_0'], format='%H:%M:%S.%f')\n",
    "    axes[1, 0].plot(xs, rssi)\n",
    "    axes[1, 0].set_xticks([])\n",
    "    axes[1, 0].set_ylabel('dBm')\n",
    "\n",
    "    plot_altitudes(axes[1, 1], df, TIME_BASED, REMOVE_EXTREMA)\n",
    "    axes[1, 1].set_title('Altitude')\n",
    "    axes[1, 1].set_xticks([])\n",
    "    axes[1, 1].set_ylabel('meter above sea level')\n",
    "\n",
    "    plot_temperature(axes[1, 2], df, TIME_BASED, REMOVE_EXTREMA)\n",
    "    axes[1, 2].set_title('Temperature')\n",
    "    axes[1, 2].set_xticks([])\n",
    "    axes[1, 2].set_ylabel('°C')\n",
    "\n",
    "    # Adjust layout for better appearance\n",
    "    plt.tight_layout()\n",
    "    clear_output(wait=True)\n",
    "    # Display the subplots\n",
    "    axes[0, 0].legend()\n",
    "    axes[0, 1].legend()\n",
    "    axes[0, 2].legend()\n",
    "    # axes[1, 0].legend()\n",
    "    axes[1, 1].legend()\n",
    "    plt.show()\n"
   ]
  },
  {
   "cell_type": "code",
   "execution_count": null,
   "metadata": {},
   "outputs": [],
   "source": [
    "file_times = [(f, path.getmtime(f)) for f in listdir('.') if path.isfile(f) and f[-3:] == 'csv']\n",
    "\n",
    "sorted_files = sorted(file_times, key=lambda x: x[1], reverse=True)\n",
    "data_source = sorted_files[0][0]\n",
    "\n",
    "while True:\n",
    "    df = pd.read_csv(data_source, comment='#')\n",
    "    for i in range(N_UV):\n",
    "        df.loc[df[f'UV_{i}']>UV_MAX,f'UV_{i}'] = UV_MAX\n",
    "    # Create a figure and subplots\n",
    "    fig, axes = plt.subplots(nrows=2, ncols=3, figsize=(16, 8))\n",
    "\n",
    "    axes[0, 0].set_title('ultraviolet counts')\n",
    "    axes[0, 1].set_title('ambient light counts')\n",
    "    axes[0, 0].set_xticks([])\n",
    "    axes[0, 0].set_ylabel('counts')\n",
    "    axes[0, 1].set_xticks([])\n",
    "    axes[0, 1].set_ylabel('counts')\n",
    "    for i in range(N_UV):\n",
    "        plot_uv(axes, df, i)\n",
    "\n",
    "    plot_magnetometer(axes[0, 2], df)\n",
    "    axes[0, 2].set_title('Magnetic field')\n",
    "    axes[0, 2].set_xticks([])\n",
    "\n",
    "\n",
    "    # lons = pd.to_numeric(df['lon_deg']) + pd.to_numeric(df['lon_min']) / 60 + pd.to_numeric(df['lon_sec']) / 3600\n",
    "    # lats = pd.to_numeric(df['lat_deg']) + pd.to_numeric(df['lat_min']) / 60 + pd.to_numeric(df['lat_sec']) / 3600\n",
    "    # axes[1, 0].plot(lons[-N_displayed:], lats[-N_displayed:])\n",
    "    # axes[1, 0].scatter(lons[-1:], lats[-1:], c='r')\n",
    "    # axes[1, 0].set_title('Coordinates')\n",
    "    # axes[1, 0].set_xlabel('°E')\n",
    "    # axes[1, 0].set_ylabel('°N')\n",
    "    # plot_times(axes[1, 0], df)\n",
    "    axes[1, 0].set_title('Received Signal Strength Indicator')\n",
    "    rssi = pd.to_numeric(df['RSSI'])\n",
    "    times = pd.to_datetime(df[f'time_0'], format='%H:%M:%S.%f')\n",
    "    axes[1, 0].plot(times[-N_displayed:], rssi[-N_displayed:])\n",
    "    axes[1, 0].set_xticks([])\n",
    "    axes[1, 0].set_ylabel('dBm')\n",
    "\n",
    "    plot_altitudes(axes[1, 1], df)\n",
    "    axes[1, 1].set_title('Altitude')\n",
    "    axes[1, 1].set_xticks([])\n",
    "    axes[1, 1].set_ylabel('meter above sea level')\n",
    "\n",
    "    plot_temperature(axes[1, 2], df)\n",
    "    axes[1, 2].set_title('Temperature')\n",
    "    axes[1, 2].set_xticks([])\n",
    "    axes[1, 2].set_ylabel('°C')\n",
    "\n",
    "    # Adjust layout for better appearance\n",
    "    plt.tight_layout()\n",
    "    clear_output(wait=True)\n",
    "    # Display the subplots\n",
    "    axes[0, 0].legend()\n",
    "    axes[0, 1].legend()\n",
    "    axes[0, 2].legend()\n",
    "    # axes[1, 0].legend()\n",
    "    axes[1, 1].legend()\n",
    "    plt.show()\n"
   ]
  },
  {
   "cell_type": "code",
   "execution_count": null,
   "metadata": {},
   "outputs": [],
   "source": []
  }
 ],
 "metadata": {
  "kernelspec": {
   "display_name": "Python 3",
   "language": "python",
   "name": "python3"
  },
  "language_info": {
   "codemirror_mode": {
    "name": "ipython",
    "version": 3
   },
   "file_extension": ".py",
   "mimetype": "text/x-python",
   "name": "python",
   "nbconvert_exporter": "python",
   "pygments_lexer": "ipython3",
   "version": "3.10.12"
  }
 },
 "nbformat": 4,
 "nbformat_minor": 2
}
