{
 "cells": [
  {
   "cell_type": "markdown",
   "metadata": {},
   "source": [
    "# TUMOR ground station data display\n",
    "\n",
    "This code is a part of the ground station segment for [TEK5720](https://www.uio.no/studier/emner/matnat/its/TEK5720/) TUMOR (Targeting Ultraviolet Mid-Ozone layer Radiation) mission\n",
    "\n",
    "Group Blip-Blop:\n",
    "* Joachim Thomle Karlsen\n",
    "* Tobias Mellum\n",
    "* Michał Jan Odorczuk\n",
    "* Vytenis Orlauskis\n",
    "* Yawar Seraj\n",
    "\n",
    "Code made by Michał Jan Odorczuk\n",
    "\n",
    "This code displays the newest set of data retreived from the ground station module\n",
    "\n",
    "Ground station module code is available [here](https://github.com/VytenisO/tumor/blob/main/flightVersion/groundStation.ino)\n",
    "\n",
    "Ground station receives data transmitted by the [CanSat module](https://github.com/VytenisO/tumor/blob/main/flightVersion/cansat.ino)\n",
    "\n",
    "Ground station data is saved to a file with the [data capture script](https://github.com/VytenisO/tumor/blob/main/flightVersion/data_capture.ipynb)"
   ]
  },
  {
   "cell_type": "markdown",
   "metadata": {},
   "source": [
    "## imports\n",
    "\n",
    "Please install [pyserial](https://pypi.org/project/pyserial/), [matplotlib](https://pypi.org/project/matplotlib/) and [pandas](https://pypi.org/project/pandas/)"
   ]
  },
  {
   "cell_type": "code",
   "execution_count": null,
   "metadata": {},
   "outputs": [],
   "source": [
    "import pandas as pd\n",
    "from matplotlib import pyplot as plt\n",
    "import matplotlib.image as mpimg\n",
    "from IPython.display import clear_output\n",
    "from os import listdir, path\n",
    "import numpy as np"
   ]
  },
  {
   "cell_type": "markdown",
   "metadata": {},
   "source": [
    "## Parameters"
   ]
  },
  {
   "cell_type": "code",
   "execution_count": null,
   "metadata": {},
   "outputs": [],
   "source": [
    "N_UV = 4\n",
    "N_displayed = 100\n",
    "UV_MAX = 5000"
   ]
  },
  {
   "cell_type": "code",
   "execution_count": null,
   "metadata": {},
   "outputs": [],
   "source": [
    "TIME_BASED = True\n",
    "REMOVE_EXTREMA = False\n",
    "N_SIGMAS = 1\n",
    "GRID = True"
   ]
  },
  {
   "cell_type": "markdown",
   "metadata": {},
   "source": [
    "## Barometric altitude\n",
    "\n",
    "According to [Andøya CanSat Book](https://learn.andoyaspace.no/ebook/the-cansat-book/common/getting-started/using-the-sensors/altitude-calculations/) the formula for barometric altitude is:\n",
    "\n",
    "$h = \\frac{T_0}{\\alpha} \\cdot \\left( \\left( \\frac{p}{p_0} \\right)^{\\frac{-\\alpha R}{g_0}} - 1 \\right) + h_0$\n",
    "\n",
    "where\n",
    "\n",
    "* $h$ is the altitude,\n",
    "* $T_0$ is the surface temperature set in the variable `surface_temperature`,\n",
    "* $\\alpha$ - is the temperature gradient equal to $-0.0065\\text{K}/\\text{m}$,\n",
    "* $p$ is the pressure measured by the probe,\n",
    "* $p_0$ is the surface pressure set in the variable `surface_pressure`,\n",
    "* $R$ is the [specific gas constant](https://web.mit.edu/calculix_v2.7/CalculiX/ccx_2.7/doc/ccx/node240.html) equal to $287.06\\text{J}/\\text{kg}\\cdot\\text{K}$,\n",
    "* $g_0$ is the [surface gravity](https://en.wikipedia.org/wiki/Surface_gravity) equal to $9.81\\text{m}/\\text{s}^2$,\n",
    "* $h_0$ is the altitude at which surface pressure and temperature are measured. Here assumed to be zero."
   ]
  },
  {
   "cell_type": "code",
   "execution_count": null,
   "metadata": {},
   "outputs": [],
   "source": [
    "# check and update these values if needed\n",
    "surface_pressure = 100900\n",
    "surface_temperature = 277.15\n",
    "\n",
    "alpha = -0.0065\n",
    "R = 287.06\n",
    "g0 = 9.81\n",
    "\n",
    "def barometricAltitude(p):\n",
    "    return (surface_temperature / alpha) * ((p / surface_pressure) ** (- alpha * R / g0) - 1)"
   ]
  },
  {
   "cell_type": "markdown",
   "metadata": {},
   "source": [
    "## Plotting functions"
   ]
  },
  {
   "cell_type": "code",
   "execution_count": null,
   "metadata": {},
   "outputs": [],
   "source": [
    "def plot_uvs(axes, df, time_based, remove_extrema):\n",
    "    high = 0\n",
    "    for i in range(N_UV):\n",
    "        uv = pd.to_numeric(df[f'UV_{i}']).to_numpy()\n",
    "        al = pd.to_numeric(df[f'AL_{i}']).to_numpy()\n",
    "        xs = np.arange(len(uv))\n",
    "        if time_based:\n",
    "            xs = pd.to_datetime(df[f'time_{i}'], format='%H:%M:%S.%f')\n",
    "        axes[0, 0].plot(xs, uv, label=f'$UV_{i}$')\n",
    "        axes[0, 1].plot(xs, al, label=f\"$AL_{i}$\")\n",
    "        if remove_extrema:\n",
    "            high = max(high, uv.mean() + N_SIGMAS * uv.std())\n",
    "        else:\n",
    "            high = max(high, uv.max())"
   ]
  },
  {
   "cell_type": "code",
   "execution_count": null,
   "metadata": {},
   "outputs": [],
   "source": [
    "def plot_magnetometer(ax, df, time_based):\n",
    "    mxs, mys, mzs = [], [], []\n",
    "    xss = np.array([np.arange(df.shape[0]) for i in range(N_UV)])\n",
    "    for i in range(N_UV):\n",
    "        mxs.append(pd.to_numeric(df[f'Mx_{i}']).to_numpy())\n",
    "        mys.append(pd.to_numeric(df[f'My_{i}']).to_numpy())\n",
    "        mzs.append(pd.to_numeric(df[f'Mz_{i}']).to_numpy())\n",
    "        if time_based:\n",
    "            xss[i,:] = pd.to_datetime(df[f'time_{i}'], format='%H:%M:%S.%f').to_numpy()\n",
    "    mxs = np.array(mxs)\n",
    "    mys = np.array(mys)\n",
    "    mzs = np.array(mzs)\n",
    "    M_N = mxs.shape[0] * mxs.shape[1]\n",
    "    mxs = np.reshape(mxs.T, M_N)\n",
    "    mys = np.reshape(mys.T, M_N)\n",
    "    mzs = np.reshape(mzs.T, M_N)\n",
    "    xss = np.reshape(xss.T, M_N)\n",
    "    ax.plot(xss, mxs, label=\"$M_x$\", color='r')\n",
    "    ax.plot(xss, mys, label=\"$M_y$\", color='g')\n",
    "    ax.plot(xss, mzs, label=\"$M_z$\", color='b')"
   ]
  },
  {
   "cell_type": "code",
   "execution_count": null,
   "metadata": {},
   "outputs": [],
   "source": [
    "def plot_times(ax, df):\n",
    "    uv_times = []\n",
    "    for i in range(N_UV):\n",
    "        uv_times.append(pd.to_datetime(df[f'time_{i}'], format='%H:%M:%S.%f').to_numpy()[-N_displayed:])\n",
    "        ax.plot(uv_times[i], label=f'$time_{{uv,{i}}}$')\n",
    "    times = pd.to_datetime(df[f'time_GPS'], format='%H:%M:%S').to_numpy()[-N_displayed:]\n",
    "    ax.plot(times, label='GPS time')"
   ]
  },
  {
   "cell_type": "code",
   "execution_count": null,
   "metadata": {},
   "outputs": [],
   "source": [
    "def plot_altitudes(ax, df, time_based, remove_extrema):\n",
    "    alts = pd.to_numeric(df['alt'])\n",
    "    alt_bars = barometricAltitude(pd.to_numeric(df['pressure']))\n",
    "    low, high = min(alts.min(), alt_bars.min()), max(alts.max(), alt_bars.max())\n",
    "    xs = np.arange(df.shape[0])\n",
    "    if time_based:\n",
    "        xs = pd.to_datetime(df[f'time_0'], format='%H:%M:%S.%f')\n",
    "    if remove_extrema:\n",
    "        low = min(alts.mean() - N_SIGMAS * alts.std(), alt_bars.mean() - N_SIGMAS * alt_bars.std())\n",
    "        high = max(alts.mean() + N_SIGMAS * alts.std(), alt_bars.mean() + N_SIGMAS * alt_bars.std())\n",
    "    ax.plot(xs, alts, label='GPS altitude')\n",
    "    ax.plot(xs, alt_bars, label='barometric altitude')\n",
    "    ax.set_ylim(low, high)"
   ]
  },
  {
   "cell_type": "code",
   "execution_count": null,
   "metadata": {},
   "outputs": [],
   "source": [
    "def plot_temperature(ax, df, time_based, remove_extrema):\n",
    "    temperatures = pd.to_numeric(df['temperature'])\n",
    "    xs = np.arange(df.shape[0])\n",
    "    if time_based:\n",
    "        xs = pd.to_datetime(df[f'time_0'], format='%H:%M:%S.%f')\n",
    "    ax.plot(xs, temperatures)\n",
    "    if remove_extrema:\n",
    "        ax.set_ylim(temperatures.mean() - N_SIGMAS * temperatures.std(), temperatures.mean() + N_SIGMAS * temperatures.std())"
   ]
  },
  {
   "cell_type": "code",
   "execution_count": null,
   "metadata": {},
   "outputs": [],
   "source": [
    "def plot_pressure(ax, df, time_based, remove_extrema):\n",
    "    pressure = pd.to_numeric(df['pressure'])\n",
    "    xs = np.arange(df.shape[0])\n",
    "    if time_based:\n",
    "        xs = pd.to_datetime(df[f'time_0'], format='%H:%M:%S.%f')\n",
    "    ax.plot(xs, pressure)\n",
    "    if remove_extrema:\n",
    "        ax.set_ylim(pressure.mean() - N_SIGMAS * pressure.std(), pressure.mean() + N_SIGMAS * pressure.std())"
   ]
  },
  {
   "cell_type": "markdown",
   "metadata": {},
   "source": [
    "## Load from file and display"
   ]
  },
  {
   "cell_type": "code",
   "execution_count": null,
   "metadata": {},
   "outputs": [],
   "source": [
    "images = [mpimg.imread(f'./res/{i}.jpg') for i in range(7)]\n",
    "\n",
    "file_times = [(f, path.getmtime(f)) for f in listdir('.') if path.isfile(f) and f[-3:] == 'csv']\n",
    "\n",
    "sorted_files = sorted(file_times, key=lambda x: x[1], reverse=True)\n",
    "data_source = sorted_files[0][0]\n",
    "\n",
    "image_counter = 0\n",
    "\n",
    "while True:\n",
    "    df = pd.read_csv(data_source, comment='#')[-N_displayed:]\n",
    "    if df.shape[0] < 1:\n",
    "        continue\n",
    "    for i in range(N_UV):\n",
    "        df.loc[df[f'UV_{i}']>UV_MAX,f'UV_{i}'] = UV_MAX\n",
    "    # Create a figure and subplots\n",
    "    fig, axes = plt.subplots(nrows=3, ncols=3, figsize=(16, 12))\n",
    "\n",
    "    axes[0, 0].set_title('ultraviolet counts')\n",
    "    axes[0, 0].set_xticks([])\n",
    "    axes[0, 0].set_ylabel('counts')\n",
    "    if GRID:\n",
    "        axes[0, 0].grid()\n",
    "    axes[0, 1].set_title('ambient light counts')\n",
    "    axes[0, 1].set_xticks([])\n",
    "    axes[0, 1].set_ylabel('counts')\n",
    "    if GRID:\n",
    "        axes[0, 1].grid()\n",
    "    plot_uvs(axes, df, TIME_BASED, REMOVE_EXTREMA)\n",
    "\n",
    "    plot_magnetometer(axes[0, 2], df, TIME_BASED)\n",
    "    axes[0, 2].set_title('Magnetic field')\n",
    "    axes[0, 2].set_xticks([])\n",
    "    if GRID:\n",
    "        axes[0, 2].grid()\n",
    "\n",
    "    axes[1, 0].set_title('Received Signal Strength Indicator')\n",
    "    rssi = pd.to_numeric(df['RSSI'])\n",
    "    xs = np.arange(df.shape[0])\n",
    "    if TIME_BASED:\n",
    "        xs = pd.to_datetime(df[f'time_0'], format='%H:%M:%S.%f')\n",
    "    axes[1, 0].plot(xs, rssi)\n",
    "    axes[1, 0].set_xticks([])\n",
    "    axes[1, 0].set_ylabel('dBm')\n",
    "    if GRID:\n",
    "        axes[1, 0].grid()\n",
    "\n",
    "    plot_altitudes(axes[1, 1], df, TIME_BASED, REMOVE_EXTREMA)\n",
    "    axes[1, 1].set_title('Altitude')\n",
    "    axes[1, 1].set_xticks([])\n",
    "    axes[1, 1].set_ylabel('meter above sea level')\n",
    "    if GRID:\n",
    "        axes[1, 1].grid()\n",
    "\n",
    "    plot_temperature(axes[1, 2], df, TIME_BASED, REMOVE_EXTREMA)\n",
    "    axes[1, 2].set_title('Temperature')\n",
    "    axes[1, 2].set_xticks([])\n",
    "    axes[1, 2].set_ylabel('°C')\n",
    "    if GRID:\n",
    "        axes[1, 2].grid()\n",
    "\n",
    "    plot_pressure(axes[2, 0], df, TIME_BASED, REMOVE_EXTREMA)\n",
    "    axes[2, 0].set_title('Pressure')\n",
    "    axes[2, 0].set_xticks([])\n",
    "    axes[2, 0].set_ylabel('Pa')\n",
    "    if GRID:\n",
    "        axes[2, 0].grid()\n",
    "\n",
    "    axes[2, 1].imshow(images[(image_counter // 10) % 7])\n",
    "    axes[2, 2].imshow(images[(image_counter // 10 + 1) % 7])\n",
    "    image_counter += 1\n",
    "\n",
    "    # Adjust layout for better appearance\n",
    "    plt.tight_layout()\n",
    "    clear_output(wait=True)\n",
    "    # Display the subplots\n",
    "    axes[0, 0].legend()\n",
    "    axes[0, 1].legend()\n",
    "    axes[0, 2].legend()\n",
    "    # axes[1, 0].legend()\n",
    "    axes[1, 1].legend()\n",
    "    plt.show()\n"
   ]
  }
 ],
 "metadata": {
  "kernelspec": {
   "display_name": "Python 3",
   "language": "python",
   "name": "python3"
  },
  "language_info": {
   "codemirror_mode": {
    "name": "ipython",
    "version": 3
   },
   "file_extension": ".py",
   "mimetype": "text/x-python",
   "name": "python",
   "nbconvert_exporter": "python",
   "pygments_lexer": "ipython3",
   "version": "3.10.12"
  }
 },
 "nbformat": 4,
 "nbformat_minor": 2
}
