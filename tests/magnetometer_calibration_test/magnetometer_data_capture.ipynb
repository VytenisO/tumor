{
 "cells": [
  {
   "cell_type": "code",
   "execution_count": 1,
   "metadata": {},
   "outputs": [],
   "source": [
    "import serial\n",
    "from datetime import datetime\n",
    "import pandas as pd\n",
    "import serial.tools.list_ports\n",
    "from matplotlib import pyplot as plt\n",
    "from IPython.display import clear_output"
   ]
  },
  {
   "cell_type": "code",
   "execution_count": 43,
   "metadata": {},
   "outputs": [
    {
     "name": "stdout",
     "output_type": "stream",
     "text": [
      "/dev/ttyACM2\n"
     ]
    }
   ],
   "source": [
    "# Get the list of available serial ports\n",
    "ports = serial.tools.list_ports.comports()\n",
    "\n",
    "# Iterate through the ports and print their details\n",
    "for port in ports:\n",
    "    print(port.device)\n",
    "\n",
    "port = '/dev/ttyACM2'\n",
    "baud_rate = 9600\n",
    "N_UV = 4\n",
    "MAGNETOMETER_SAMPLES = 10"
   ]
  },
  {
   "cell_type": "code",
   "execution_count": 57,
   "metadata": {},
   "outputs": [
    {
     "ename": "KeyboardInterrupt",
     "evalue": "",
     "output_type": "error",
     "traceback": [
      "\u001b[0;31m---------------------------------------------------------------------------\u001b[0m",
      "\u001b[0;31mKeyboardInterrupt\u001b[0m                         Traceback (most recent call last)",
      "Cell \u001b[0;32mIn[57], line 10\u001b[0m\n\u001b[1;32m      8\u001b[0m \u001b[38;5;66;03m# Read and print the serial output\u001b[39;00m\n\u001b[1;32m      9\u001b[0m \u001b[38;5;28;01mwhile\u001b[39;00m \u001b[38;5;28;01mTrue\u001b[39;00m:\n\u001b[0;32m---> 10\u001b[0m     dataline \u001b[38;5;241m=\u001b[39m \u001b[43mser\u001b[49m\u001b[38;5;241;43m.\u001b[39;49m\u001b[43mreadline\u001b[49m\u001b[43m(\u001b[49m\u001b[43m)\u001b[49m\u001b[38;5;241m.\u001b[39mdecode(\u001b[38;5;124m'\u001b[39m\u001b[38;5;124mutf-8\u001b[39m\u001b[38;5;124m'\u001b[39m)\u001b[38;5;241m.\u001b[39mstrip()  \u001b[38;5;66;03m# Convert bytes to string\u001b[39;00m\n\u001b[1;32m     11\u001b[0m     frames\u001b[38;5;241m.\u001b[39mappend(pd\u001b[38;5;241m.\u001b[39mDataFrame([dataline\u001b[38;5;241m.\u001b[39msplit(\u001b[38;5;124m'\u001b[39m\u001b[38;5;124m,\u001b[39m\u001b[38;5;124m'\u001b[39m)]))\n\u001b[1;32m     12\u001b[0m     frames[\u001b[38;5;241m-\u001b[39m\u001b[38;5;241m1\u001b[39m]\u001b[38;5;241m.\u001b[39mto_csv(\u001b[38;5;124m\"\u001b[39m\u001b[38;5;124mIMU_B_test.csv\u001b[39m\u001b[38;5;124m\"\u001b[39m, mode\u001b[38;5;241m=\u001b[39m\u001b[38;5;124m'\u001b[39m\u001b[38;5;124ma\u001b[39m\u001b[38;5;124m'\u001b[39m, index \u001b[38;5;241m=\u001b[39m \u001b[38;5;28;01mFalse\u001b[39;00m, header \u001b[38;5;241m=\u001b[39m \u001b[38;5;28;01mFalse\u001b[39;00m)\n",
      "File \u001b[0;32m~/.local/lib/python3.10/site-packages/serial/serialposix.py:565\u001b[0m, in \u001b[0;36mSerial.read\u001b[0;34m(self, size)\u001b[0m\n\u001b[1;32m    563\u001b[0m \u001b[38;5;28;01mwhile\u001b[39;00m \u001b[38;5;28mlen\u001b[39m(read) \u001b[38;5;241m<\u001b[39m size:\n\u001b[1;32m    564\u001b[0m     \u001b[38;5;28;01mtry\u001b[39;00m:\n\u001b[0;32m--> 565\u001b[0m         ready, _, _ \u001b[38;5;241m=\u001b[39m \u001b[43mselect\u001b[49m\u001b[38;5;241;43m.\u001b[39;49m\u001b[43mselect\u001b[49m\u001b[43m(\u001b[49m\u001b[43m[\u001b[49m\u001b[38;5;28;43mself\u001b[39;49m\u001b[38;5;241;43m.\u001b[39;49m\u001b[43mfd\u001b[49m\u001b[43m,\u001b[49m\u001b[43m \u001b[49m\u001b[38;5;28;43mself\u001b[39;49m\u001b[38;5;241;43m.\u001b[39;49m\u001b[43mpipe_abort_read_r\u001b[49m\u001b[43m]\u001b[49m\u001b[43m,\u001b[49m\u001b[43m \u001b[49m\u001b[43m[\u001b[49m\u001b[43m]\u001b[49m\u001b[43m,\u001b[49m\u001b[43m \u001b[49m\u001b[43m[\u001b[49m\u001b[43m]\u001b[49m\u001b[43m,\u001b[49m\u001b[43m \u001b[49m\u001b[43mtimeout\u001b[49m\u001b[38;5;241;43m.\u001b[39;49m\u001b[43mtime_left\u001b[49m\u001b[43m(\u001b[49m\u001b[43m)\u001b[49m\u001b[43m)\u001b[49m\n\u001b[1;32m    566\u001b[0m         \u001b[38;5;28;01mif\u001b[39;00m \u001b[38;5;28mself\u001b[39m\u001b[38;5;241m.\u001b[39mpipe_abort_read_r \u001b[38;5;129;01min\u001b[39;00m ready:\n\u001b[1;32m    567\u001b[0m             os\u001b[38;5;241m.\u001b[39mread(\u001b[38;5;28mself\u001b[39m\u001b[38;5;241m.\u001b[39mpipe_abort_read_r, \u001b[38;5;241m1000\u001b[39m)\n",
      "\u001b[0;31mKeyboardInterrupt\u001b[0m: "
     ]
    }
   ],
   "source": [
    "# store frames in case of further analysis\n",
    "frames = []\n",
    "\n",
    "# Open the serial port\n",
    "ser = serial.Serial(port, baud_rate)\n",
    "\n",
    "\n",
    "# Read and print the serial output\n",
    "while True:\n",
    "    dataline = ser.readline().decode('utf-8').strip()  # Convert bytes to string\n",
    "    frames.append(pd.DataFrame([dataline.split(',')]))\n",
    "    frames[-1].to_csv(\"IMU_B_test.csv\", mode='a', index = False, header = False)\n"
   ]
  },
  {
   "cell_type": "code",
   "execution_count": 60,
   "metadata": {},
   "outputs": [
    {
     "name": "stdout",
     "output_type": "stream",
     "text": [
      "1:\n",
      "Values in x direction vary from -68.971917 to 17.542857, max-min: 86.514774, offset is: -25.714530000000003\n",
      "Values in y direction vary from 6.147497 to 84.715507, max-min: 78.56801, offset is: 45.431502\n",
      "Values in z direction vary from -404.835165 to -305.725519, max-min: 99.109646, offset is: -355.280342\n",
      "2:\n",
      "Values in x direction vary from -34.186081 to 57.726496, max-min: 91.912577, offset is: 11.770207499999998\n",
      "Values in y direction vary from 7.496947 to 89.813431, max-min: 82.31648399999999, offset is: 48.655189\n",
      "Values in z direction vary from -391.340659 to -301.977045, max-min: 89.36361400000004, offset is: -346.658852\n",
      "3:\n",
      "Values in x direction vary from -34.635897 to 61.624908, max-min: 96.260805, offset is: 13.494505499999999\n",
      "Values in y direction vary from 17.992674 to 81.716728, max-min: 63.724054, offset is: 49.854701000000006\n",
      "Values in z direction vary from -390.890842 to -301.077411, max-min: 89.81343100000004, offset is: -345.9841265\n"
     ]
    }
   ],
   "source": [
    "for i in range(1,4):\n",
    "    df = pd.read_csv(f\"IMU_B_test_dancing{i}.csv\", names=['x', 'y', 'z'])\n",
    "    print(f\"{i}:\")\n",
    "    for direction in ['x', 'y', 'z']:\n",
    "        print(f\"Values in {direction} direction vary from {df[direction].min()} to {df[direction].max()}, max-min: {df[direction].max() - df[direction].min()}, offset is: {(df[direction].max() + df[direction].min()) / 2}\")"
   ]
  }
 ],
 "metadata": {
  "kernelspec": {
   "display_name": "Python 3",
   "language": "python",
   "name": "python3"
  },
  "language_info": {
   "codemirror_mode": {
    "name": "ipython",
    "version": 3
   },
   "file_extension": ".py",
   "mimetype": "text/x-python",
   "name": "python",
   "nbconvert_exporter": "python",
   "pygments_lexer": "ipython3",
   "version": "3.10.12"
  }
 },
 "nbformat": 4,
 "nbformat_minor": 2
}
